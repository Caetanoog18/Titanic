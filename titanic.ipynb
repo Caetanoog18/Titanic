{
 "cells": [
  {
   "metadata": {
    "ExecuteTime": {
     "end_time": "2025-03-25T01:56:49.668887Z",
     "start_time": "2025-03-25T01:56:49.666249Z"
    }
   },
   "cell_type": "code",
   "source": [
    "import os\n",
    "import zipfile\n",
    "import pickle\n",
    "import numpy as np\n",
    "import pandas as pd\n",
    "import seaborn as sns\n",
    "import matplotlib.pyplot as plt"
   ],
   "id": "d1bf59ce59e9b9c5",
   "outputs": [],
   "execution_count": 9
  },
  {
   "metadata": {},
   "cell_type": "markdown",
   "source": "# Downloading the data",
   "id": "1a5b86664310c000"
  },
  {
   "cell_type": "code",
   "id": "initial_id",
   "metadata": {
    "collapsed": true,
    "ExecuteTime": {
     "end_time": "2025-03-25T01:56:51.216385Z",
     "start_time": "2025-03-25T01:56:49.717693Z"
    }
   },
   "source": [
    "TITANIC_ROOT = os.path.join(\"datasets\", \"titanic\")\n",
    "os.makedirs(TITANIC_ROOT, exist_ok=True)\n",
    "\n",
    "!kaggle competitions download -c titanic -p {TITANIC_ROOT}\n",
    "\n",
    "titanic_zip = os.path.join(TITANIC_ROOT, \"titanic.zip\")\n",
    "with zipfile.ZipFile(titanic_zip, 'r') as zip_ref:\n",
    "    zip_ref.extractall(TITANIC_ROOT)\n",
    "\n",
    "os.remove(titanic_zip)\n",
    "\n",
    "print(f\"Files in directory: {os.listdir(TITANIC_ROOT)}\")"
   ],
   "outputs": [
    {
     "name": "stdout",
     "output_type": "stream",
     "text": [
      "Files in directory: ['gender_submission.csv', 'test.csv', 'train.csv']\n"
     ]
    }
   ],
   "execution_count": 10
  },
  {
   "metadata": {},
   "cell_type": "markdown",
   "source": "# Preprocessing class",
   "id": "588a36d6219b5c91"
  },
  {
   "metadata": {
    "ExecuteTime": {
     "end_time": "2025-03-25T01:56:51.229634Z",
     "start_time": "2025-03-25T01:56:51.225722Z"
    }
   },
   "cell_type": "code",
   "source": [
    "from abc import ABC, abstractmethod\n",
    "\n",
    "class Preprocessing(ABC):\n",
    "    def __init__(self, titanic_path=TITANIC_ROOT):\n",
    "        train_csv_path = os.path.join(titanic_path, \"train.csv\")\n",
    "        test_csv_path = os.path.join(titanic_path, \"test.csv\")\n",
    "        self.train = pd.read_csv(train_csv_path)\n",
    "        self.test = pd.read_csv(test_csv_path)\n",
    "        self.numeric_columns_train = self.train.select_dtypes(include=['int64', 'float64'])\n",
    "        self.categorical_columns_train = self.train.select_dtypes(exclude=['int64', 'float64'])\n",
    "        self.numeric_columns_test = self.test.select_dtypes(include=['int64', 'float64'])\n",
    "        self.categorical_columns_test = self.test.select_dtypes(exclude=['int64', 'float64'])\n",
    "        self.deleting_columns()\n",
    "\n",
    "\n",
    "    def deleting_columns(self):\n",
    "        # Dropping the PassengerId and Name columns from train dataset and test dataset as well\n",
    "        self.train.drop(columns=[\"PassengerId\", \"Name\"], inplace=True)\n",
    "        self.test.drop(columns=[\"PassengerId\", \"Name\"], inplace=True)\n",
    "\n",
    "        # Verifying if the PassengerId and Name columns from train and test datasets was dropped correctly\n",
    "        columns_to_check = [\"PassengerId\", \"Survived\"]\n",
    "        for col in columns_to_check:\n",
    "            status = \"was dropped  correctly\" if col not in self.train.columns or col not in self.test.columns else \"was not dropped\"\n",
    "\n",
    "    @abstractmethod\n",
    "    def inconsistent_data(self):\n",
    "        pass\n",
    "\n",
    "    @abstractmethod\n",
    "    def missing_data(self):\n",
    "        pass\n"
   ],
   "id": "efc2d4413b155a4f",
   "outputs": [],
   "execution_count": 11
  },
  {
   "metadata": {},
   "cell_type": "markdown",
   "source": "# Train Dataset",
   "id": "9f9df952e046392f"
  },
  {
   "metadata": {
    "ExecuteTime": {
     "end_time": "2025-03-25T01:56:51.273960Z",
     "start_time": "2025-03-25T01:56:51.270298Z"
    }
   },
   "cell_type": "code",
   "source": [
    "class TrainPreprocessing(Preprocessing):\n",
    "    # Verifying inconsistent values\n",
    "    def inconsistent_data(self):\n",
    "        for column in self.numeric_columns_train.columns:\n",
    "            inconsistent_values = self.train.loc[self.train[column] < 0]\n",
    "            if inconsistent_values.empty:\n",
    "                print(f\"Column {column} has no inconsistent values\")\n",
    "            else:\n",
    "                print(f\"Column {column} has inconsistent values\")\n",
    "\n",
    "        return self.train\n",
    "\n",
    "    # Verifying missing data\n",
    "    def missing_data(self):\n",
    "        print(self.train.isnull().sum())\n",
    "\n",
    "        # Replacing the missing values in numerical columns with the mean\n",
    "        self.train[self.numeric_columns_train.columns] = self.train[self.numeric_columns_train.columns].apply(lambda column: column.fillna(column.mean()))\n",
    "        # Replacing the missing data in categorical columns as 'Unknown'\n",
    "        self.train[self.categorical_columns_train.columns] = self.train[self.categorical_columns_train.columns].fillna(\"Unknown\")\n",
    "\n",
    "        return self.train\n",
    "\n",
    "    def histogram_graphs(self):\n",
    "        self.train.hist(bins=50, figsize=(20, 15))\n",
    "        plt.show()\n",
    "\n",
    "    def correlation_matrix(self):\n",
    "        correlation_matrix = self.numeric_columns_train.corr()\n",
    "        survived_correlation = correlation_matrix[\"Survived\"].sort_values(ascending=False)\n",
    "        print(survived_correlation)\n",
    "\n",
    "        plt.figure(figsize = (10, 8))\n",
    "        survived_correlation.plot(kind=\"bar\", color=\"red\")\n",
    "        plt.xlabel('Features')\n",
    "        plt.ylabel('Correlation')\n",
    "        plt.show()\n"
   ],
   "id": "e61626b53e1b5cdc",
   "outputs": [],
   "execution_count": 12
  },
  {
   "metadata": {
    "ExecuteTime": {
     "end_time": "2025-03-25T01:56:51.415179Z",
     "start_time": "2025-03-25T01:56:51.316752Z"
    }
   },
   "cell_type": "code",
   "source": [
    "preprocessing = TrainPreprocessing()\n",
    "preprocessing.train.head(10)\n",
    "preprocessing.correlation_matrix()"
   ],
   "id": "46f3bf459b35b2b8",
   "outputs": [
    {
     "name": "stdout",
     "output_type": "stream",
     "text": [
      "Survived       1.000000\n",
      "Fare           0.257307\n",
      "Parch          0.081629\n",
      "PassengerId   -0.005007\n",
      "SibSp         -0.035322\n",
      "Age           -0.077221\n",
      "Pclass        -0.338481\n",
      "Name: Survived, dtype: float64\n"
     ]
    },
    {
     "data": {
      "text/plain": [
       "<Figure size 1000x800 with 1 Axes>"
      ],
      "image/png": "[encoded data removed]"
     },
     "metadata": {},
     "output_type": "display_data"
    }
   ],
   "execution_count": 13
  },
  {
   "metadata": {},
   "cell_type": "markdown",
   "source": "# Test Dataset",
   "id": "698b20b42a32d31f"
  },
  {
   "metadata": {
    "ExecuteTime": {
     "end_time": "2025-03-25T01:56:51.425490Z",
     "start_time": "2025-03-25T01:56:51.422269Z"
    }
   },
   "cell_type": "code",
   "source": [
    "class TestPreprocessing(Preprocessing):\n",
    "    # Verifying inconsistent values\n",
    "    def inconsistent_data(self):\n",
    "        for column in self.numeric_columns_test.columns:\n",
    "            inconsistent_values = self.test.loc[self.test[column] < 0]\n",
    "            if inconsistent_values.empty:\n",
    "                print(f\"Column {column} has no inconsistent values\")\n",
    "            else:\n",
    "                print(f\"Column {column} has inconsistent values\")\n",
    "\n",
    "        return self.test\n",
    "\n",
    "    # Verifying missing data\n",
    "    def missing_data(self):\n",
    "        print(self.test.isnull().sum())\n",
    "\n",
    "        # Replacing the missing values in numerical columns with the mean\n",
    "        self.test[self.numeric_columns_test.columns] = self.train[self.numeric_columns_test.columns].apply(lambda column: column.fillna(column.mean()))\n",
    "        # Replacing the missing data in categorical columns as 'Unknown'\n",
    "        self.test[self.categorical_columns_test.columns] = self.train[self.categorical_columns_test.columns].fillna(\"Unknown\")\n",
    "\n",
    "        return self.test\n"
   ],
   "id": "56f08960ea8d65fc",
   "outputs": [],
   "execution_count": 14
  },
  {
   "metadata": {
    "ExecuteTime": {
     "end_time": "2025-03-25T01:56:51.481931Z",
     "start_time": "2025-03-25T01:56:51.471542Z"
    }
   },
   "cell_type": "code",
   "source": [
    "test_preprocessing = TestPreprocessing()\n",
    "test_preprocessing.test.head(10)"
   ],
   "id": "1594e45e48e7dc8a",
   "outputs": [
    {
     "data": {
      "text/plain": [
       "   Pclass     Sex   Age  SibSp  Parch     Ticket     Fare Cabin Embarked\n",
       "0       3    male  34.5      0      0     330911   7.8292   NaN        Q\n",
       "1       3  female  47.0      1      0     363272   7.0000   NaN        S\n",
       "2       2    male  62.0      0      0     240276   9.6875   NaN        Q\n",
       "3       3    male  27.0      0      0     315154   8.6625   NaN        S\n",
       "4       3  female  22.0      1      1    3101298  12.2875   NaN        S\n",
       "5       3    male  14.0      0      0       7538   9.2250   NaN        S\n",
       "6       3  female  30.0      0      0     330972   7.6292   NaN        Q\n",
       "7       2    male  26.0      1      1     248738  29.0000   NaN        S\n",
       "8       3  female  18.0      0      0       2657   7.2292   NaN        C\n",
       "9       3    male  21.0      2      0  A/4 48871  24.1500   NaN        S"
      ],
      "text/html": [
       "<div>\n",
       "<style scoped>\n",
       "    .dataframe tbody tr th:only-of-type {\n",
       "        vertical-align: middle;\n",
       "    }\n",
       "\n",
       "    .dataframe tbody tr th {\n",
       "        vertical-align: top;\n",
       "    }\n",
       "\n",
       "    .dataframe thead th {\n",
       "        text-align: right;\n",
       "    }\n",
       "</style>\n",
       "<table border=\"1\" class=\"dataframe\">\n",
       "  <thead>\n",
       "    <tr style=\"text-align: right;\">\n",
       "      <th></th>\n",
       "      <th>Pclass</th>\n",
       "      <th>Sex</th>\n",
       "      <th>Age</th>\n",
       "      <th>SibSp</th>\n",
       "      <th>Parch</th>\n",
       "      <th>Ticket</th>\n",
       "      <th>Fare</th>\n",
       "      <th>Cabin</th>\n",
       "      <th>Embarked</th>\n",
       "    </tr>\n",
       "  </thead>\n",
       "  <tbody>\n",
       "    <tr>\n",
       "      <th>0</th>\n",
       "      <td>3</td>\n",
       "      <td>male</td>\n",
       "      <td>34.5</td>\n",
       "      <td>0</td>\n",
       "      <td>0</td>\n",
       "      <td>330911</td>\n",
       "      <td>7.8292</td>\n",
       "      <td>NaN</td>\n",
       "      <td>Q</td>\n",
       "    </tr>\n",
       "    <tr>\n",
       "      <th>1</th>\n",
       "      <td>3</td>\n",
       "      <td>female</td>\n",
       "      <td>47.0</td>\n",
       "      <td>1</td>\n",
       "      <td>0</td>\n",
       "      <td>363272</td>\n",
       "      <td>7.0000</td>\n",
       "      <td>NaN</td>\n",
       "      <td>S</td>\n",
       "    </tr>\n",
       "    <tr>\n",
       "      <th>2</th>\n",
       "      <td>2</td>\n",
       "      <td>male</td>\n",
       "      <td>62.0</td>\n",
       "      <td>0</td>\n",
       "      <td>0</td>\n",
       "      <td>240276</td>\n",
       "      <td>9.6875</td>\n",
       "      <td>NaN</td>\n",
       "      <td>Q</td>\n",
       "    </tr>\n",
       "    <tr>\n",
       "      <th>3</th>\n",
       "      <td>3</td>\n",
       "      <td>male</td>\n",
       "      <td>27.0</td>\n",
       "      <td>0</td>\n",
       "      <td>0</td>\n",
       "      <td>315154</td>\n",
       "      <td>8.6625</td>\n",
       "      <td>NaN</td>\n",
       "      <td>S</td>\n",
       "    </tr>\n",
       "    <tr>\n",
       "      <th>4</th>\n",
       "      <td>3</td>\n",
       "      <td>female</td>\n",
       "      <td>22.0</td>\n",
       "      <td>1</td>\n",
       "      <td>1</td>\n",
       "      <td>3101298</td>\n",
       "      <td>12.2875</td>\n",
       "      <td>NaN</td>\n",
       "      <td>S</td>\n",
       "    </tr>\n",
       "    <tr>\n",
       "      <th>5</th>\n",
       "      <td>3</td>\n",
       "      <td>male</td>\n",
       "      <td>14.0</td>\n",
       "      <td>0</td>\n",
       "      <td>0</td>\n",
       "      <td>7538</td>\n",
       "      <td>9.2250</td>\n",
       "      <td>NaN</td>\n",
       "      <td>S</td>\n",
       "    </tr>\n",
       "    <tr>\n",
       "      <th>6</th>\n",
       "      <td>3</td>\n",
       "      <td>female</td>\n",
       "      <td>30.0</td>\n",
       "      <td>0</td>\n",
       "      <td>0</td>\n",
       "      <td>330972</td>\n",
       "      <td>7.6292</td>\n",
       "      <td>NaN</td>\n",
       "      <td>Q</td>\n",
       "    </tr>\n",
       "    <tr>\n",
       "      <th>7</th>\n",
       "      <td>2</td>\n",
       "      <td>male</td>\n",
       "      <td>26.0</td>\n",
       "      <td>1</td>\n",
       "      <td>1</td>\n",
       "      <td>248738</td>\n",
       "      <td>29.0000</td>\n",
       "      <td>NaN</td>\n",
       "      <td>S</td>\n",
       "    </tr>\n",
       "    <tr>\n",
       "      <th>8</th>\n",
       "      <td>3</td>\n",
       "      <td>female</td>\n",
       "      <td>18.0</td>\n",
       "      <td>0</td>\n",
       "      <td>0</td>\n",
       "      <td>2657</td>\n",
       "      <td>7.2292</td>\n",
       "      <td>NaN</td>\n",
       "      <td>C</td>\n",
       "    </tr>\n",
       "    <tr>\n",
       "      <th>9</th>\n",
       "      <td>3</td>\n",
       "      <td>male</td>\n",
       "      <td>21.0</td>\n",
       "      <td>2</td>\n",
       "      <td>0</td>\n",
       "      <td>A/4 48871</td>\n",
       "      <td>24.1500</td>\n",
       "      <td>NaN</td>\n",
       "      <td>S</td>\n",
       "    </tr>\n",
       "  </tbody>\n",
       "</table>\n",
       "</div>"
      ]
     },
     "execution_count": 15,
     "metadata": {},
     "output_type": "execute_result"
    }
   ],
   "execution_count": 15
  }
 ],
 "metadata": {
  "kernelspec": {
   "display_name": "Python 3",
   "language": "python",
   "name": "python3"
  },
  "language_info": {
   "codemirror_mode": {
    "name": "ipython",
    "version": 2
   },
   "file_extension": ".py",
   "mimetype": "text/x-python",
   "name": "python",
   "nbconvert_exporter": "python",
   "pygments_lexer": "ipython2",
   "version": "2.7.6"
  }
 },
 "nbformat": 4,
 "nbformat_minor": 5
}
